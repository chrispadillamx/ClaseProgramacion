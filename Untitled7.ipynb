{
  "nbformat": 4,
  "nbformat_minor": 0,
  "metadata": {
    "colab": {
      "name": "Untitled7.ipynb",
      "provenance": []
    },
    "kernelspec": {
      "name": "python3",
      "display_name": "Python 3"
    },
    "language_info": {
      "name": "python"
    }
  },
  "cells": [
    {
      "cell_type": "code",
      "execution_count": 2,
      "metadata": {
        "colab": {
          "base_uri": "https://localhost:8080/"
        },
        "id": "OXHuIKEq5Hw_",
        "outputId": "2e66803c-d543-4a18-addf-ede1cb944d04"
      },
      "outputs": [
        {
          "output_type": "stream",
          "name": "stdout",
          "text": [
            "Juan\n",
            "Pedro\n",
            "Laura\n"
          ]
        }
      ],
      "source": [
        "mi_lista = ['Juan', 'Pedro', 'Laura', 'Carmen', 'Susana']\n",
        "print(mi_lista[0]) # Muestra Juan (la primera posición es la 0)\n",
        "print(mi_lista[1]) # Muestra Pedro\n",
        "print(mi_lista[2]) # Muestra Laura"
      ]
    }
  ]
}